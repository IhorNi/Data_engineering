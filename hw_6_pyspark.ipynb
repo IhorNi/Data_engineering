{
 "cells": [
  {
   "cell_type": "code",
   "execution_count": 1,
   "metadata": {},
   "outputs": [],
   "source": [
    "from pyspark.sql import SparkSession\n",
    "from pyspark.sql import Window\n",
    "import pyspark.sql.functions as F"
   ]
  },
  {
   "cell_type": "code",
   "execution_count": 2,
   "metadata": {},
   "outputs": [],
   "source": [
    "pg_url = 'jdbc:postgresql://xxx.xxx.xxx.xxxx:5432/postgres'\n",
    "pg_properties = {'user': 'xxx', 'password': 'xxx'}"
   ]
  },
  {
   "cell_type": "code",
   "execution_count": 3,
   "metadata": {},
   "outputs": [],
   "source": [
    "spark = SparkSession.builder\\\n",
    "        .config('spark.driver.extraClassPath', '/home/user/shared_folder/postgresql-42.2.20.jar')\\\n",
    "        .master('local')\\\n",
    "        .appName('lesson')\\\n",
    "        .getOrCreate()"
   ]
  },
  {
   "cell_type": "code",
   "execution_count": 4,
   "metadata": {},
   "outputs": [],
   "source": [
    "film_df = spark.read.jdbc(pg_url, 'film', properties=pg_properties)\n",
    "film_list_df = spark.read.jdbc(pg_url, 'film_list', properties=pg_properties)\n",
    "film_category_df = spark.read.jdbc(pg_url, 'film_category', properties=pg_properties)\n",
    "category_df = spark.read.jdbc(pg_url, 'category', properties=pg_properties)\n",
    "\n",
    "actor_df = spark.read.jdbc(pg_url, 'actor', properties=pg_properties)\n",
    "film_actor_df = spark.read.jdbc(pg_url, 'film_actor', properties=pg_properties)\n",
    "\n",
    "inventory_df = spark.read.jdbc(pg_url, 'inventory', properties=pg_properties)\n",
    "rental_df = spark.read.jdbc(pg_url, 'rental', properties=pg_properties)\n",
    "payment_df = spark.read.jdbc(pg_url, 'payment', properties=pg_properties)\n",
    "customer_df = spark.read.jdbc(pg_url, 'customer', properties=pg_properties)\n",
    "\n",
    "address_df = spark.read.jdbc(pg_url, 'address', properties=pg_properties)\n",
    "city_df = spark.read.jdbc(pg_url, 'city', properties=pg_properties)\n",
    "country_df = spark.read.jdbc(pg_url, 'country', properties=pg_properties)"
   ]
  },
  {
   "cell_type": "code",
   "execution_count": 5,
   "metadata": {},
   "outputs": [
    {
     "name": "stdout",
     "output_type": "stream",
     "text": [
      "+-----------+--------------+\n",
      "|   category|category_count|\n",
      "+-----------+--------------+\n",
      "|    Foreign|            73|\n",
      "|     Sports|            73|\n",
      "|     Family|            69|\n",
      "|Documentary|            68|\n",
      "|  Animation|            66|\n",
      "|     Action|            64|\n",
      "|        New|            63|\n",
      "|      Drama|            61|\n",
      "|      Games|            61|\n",
      "|     Sci-Fi|            61|\n",
      "|   Children|            60|\n",
      "|     Comedy|            58|\n",
      "|   Classics|            57|\n",
      "|     Travel|            56|\n",
      "|     Horror|            56|\n",
      "|      Music|            51|\n",
      "+-----------+--------------+\n",
      "\n"
     ]
    }
   ],
   "source": [
    "# Task 1\n",
    "film_list_df.groupBy(F.col('category'))\\\n",
    "            .count()\\\n",
    "            .select('category', F.col('count').alias('category_count'))\\\n",
    "            .orderBy(F.col('category_count').desc())\\\n",
    "            .show()"
   ]
  },
  {
   "cell_type": "code",
   "execution_count": 6,
   "metadata": {},
   "outputs": [
    {
     "name": "stdout",
     "output_type": "stream",
     "text": [
      "+------------------+-------------------+\n",
      "|  top_rented_actor|total_rental_amount|\n",
      "+------------------+-------------------+\n",
      "|       SUSAN DAVIS|                825|\n",
      "|    GINA DEGENERES|                753|\n",
      "|    MATTHEW CARREY|                678|\n",
      "|       MARY KEITEL|                674|\n",
      "|ANGELA WITHERSPOON|                654|\n",
      "|       WALTER TORN|                640|\n",
      "|       HENRY BERRY|                612|\n",
      "|       JAYNE NOLTE|                611|\n",
      "|        VAL BOLGER|                605|\n",
      "|     SANDRA KILMER|                604|\n",
      "+------------------+-------------------+\n",
      "\n"
     ]
    }
   ],
   "source": [
    "#Task 2\n",
    "actor_df.join(film_actor_df, actor_df.actor_id == film_actor_df.actor_id)\\\n",
    "        .join(film_df, film_actor_df.film_id == film_df.film_id)\\\n",
    "        .join(inventory_df, film_df.film_id == inventory_df.film_id)\\\n",
    "        .join(rental_df, inventory_df.inventory_id == rental_df.inventory_id)\\\n",
    "        .groupBy(F.concat(F.col('first_name'), F.lit(' '), F.col('last_name')).alias(\"top_rented_actor\"))\\\n",
    "        .agg(F.count(rental_df.rental_id).alias(\"total_rental_amount\"))\\\n",
    "        .orderBy(F.col('total_rental_amount').desc())\\\n",
    "        .limit(10)\\\n",
    "        .show()"
   ]
  },
  {
   "cell_type": "code",
   "execution_count": 7,
   "metadata": {},
   "outputs": [
    {
     "name": "stdout",
     "output_type": "stream",
     "text": [
      "+------+-----------+\n",
      "|  name|total_sales|\n",
      "+------+-----------+\n",
      "|Sports|   26571.05|\n",
      "+------+-----------+\n",
      "\n"
     ]
    }
   ],
   "source": [
    "#Task 3\n",
    "payment_df.join(rental_df, payment_df.rental_id == rental_df.rental_id)\\\n",
    "        .join(inventory_df, rental_df.inventory_id == inventory_df.inventory_id)\\\n",
    "        .join(film_df, inventory_df.film_id == film_df.film_id)\\\n",
    "        .join(film_category_df, film_df.film_id == film_category_df.film_id)\\\n",
    "        .join(category_df, film_category_df.category_id == category_df.category_id)\\\n",
    "        .groupBy(category_df.name)\\\n",
    "        .agg(F.sum(payment_df.amount).alias('total_sales'))\\\n",
    "        .orderBy(F.col('total_sales').desc())\\\n",
    "        .limit(1)\\\n",
    "        .show()"
   ]
  },
  {
   "cell_type": "code",
   "execution_count": 8,
   "metadata": {},
   "outputs": [
    {
     "name": "stdout",
     "output_type": "stream",
     "text": [
      "+--------------------+\n",
      "|               title|\n",
      "+--------------------+\n",
      "|      ALICE FANTASIA|\n",
      "|         APOLLO TEEN|\n",
      "|      ARGONAUTS TOWN|\n",
      "|       ARK RIDGEMONT|\n",
      "|ARSENIC INDEPENDENCE|\n",
      "|   BOONDOCK BALLROOM|\n",
      "|       BUTCH PANTHER|\n",
      "|       CATCH AMISTAD|\n",
      "| CHINATOWN GLADIATOR|\n",
      "|      CHOCOLATE DUCK|\n",
      "|COMMANDMENTS EXPRESS|\n",
      "|    CROSSING DIVORCE|\n",
      "|     CROWDS TELEMARK|\n",
      "|    CRYSTAL BREAKING|\n",
      "|          DAZED PUNK|\n",
      "|DELIVERANCE MULHO...|\n",
      "|   FIREHOUSE VIETNAM|\n",
      "|       FLOATS GARDEN|\n",
      "|FRANKENSTEIN STRA...|\n",
      "|  GLADIATOR WESTWARD|\n",
      "+--------------------+\n",
      "only showing top 20 rows\n",
      "\n"
     ]
    }
   ],
   "source": [
    "#Task 4\n",
    "film_df.join(inventory_df, film_df.film_id == inventory_df.film_id, 'left')\\\n",
    "        .select(film_df.title)\\\n",
    "        .filter(inventory_df.film_id.isNull())\\\n",
    "        .orderBy(film_df.title)\\\n",
    "        .show()"
   ]
  },
  {
   "cell_type": "code",
   "execution_count": 9,
   "metadata": {},
   "outputs": [
    {
     "name": "stdout",
     "output_type": "stream",
     "text": [
      "+-------------+--------------------+\n",
      "|   actor_name|total_children_films|\n",
      "+-------------+--------------------+\n",
      "| HELEN VOIGHT|                   7|\n",
      "|  SUSAN DAVIS|                   6|\n",
      "|   MARY TANDY|                   5|\n",
      "|   RALPH CRUZ|                   5|\n",
      "|  WHOOPI HURT|                   5|\n",
      "|KEVIN GARLAND|                   5|\n",
      "+-------------+--------------------+\n",
      "\n"
     ]
    }
   ],
   "source": [
    "# Task 5\n",
    "cnt_cond = lambda cond: F.sum(F.when(cond, 1).otherwise(0))\n",
    "\n",
    "actor_df.join(film_actor_df, actor_df.actor_id == film_actor_df.actor_id)\\\n",
    "        .join(film_df, film_actor_df.film_id == film_df.film_id)\\\n",
    "        .join(film_category_df, film_df.film_id == film_category_df.film_id)\\\n",
    "        .join(category_df, film_category_df.category_id == category_df.category_id)\\\n",
    "        .groupBy(F.concat(F.col('first_name'), F.lit(' '), F.col('last_name')).alias(\"actor_name\"))\\\n",
    "        .agg(cnt_cond(category_df.name == 'Children').alias('total_children_films'))\\\n",
    "        .withColumn(\"denserank\",F.dense_rank().over(Window.orderBy(F.col(\"total_children_films\").desc())))\\\n",
    "        .filter(F.col('denserank') <= 3)\\\n",
    "        .select(F.col('actor_name'), F.col('total_children_films'))\\\n",
    "        .show()"
   ]
  },
  {
   "cell_type": "code",
   "execution_count": 10,
   "metadata": {},
   "outputs": [
    {
     "name": "stdout",
     "output_type": "stream",
     "text": [
      "+--------------------+------------+---------------+\n",
      "|             country|total_active|total_nonactive|\n",
      "+--------------------+------------+---------------+\n",
      "|               China|          50|              3|\n",
      "|               India|          57|              3|\n",
      "|              Poland|           7|              1|\n",
      "|                Iran|           7|              1|\n",
      "|              Mexico|          29|              1|\n",
      "|             Hungary|           0|              1|\n",
      "|Virgin Islands, U.S.|           0|              1|\n",
      "|  Russian Federation|          27|              1|\n",
      "|              Israel|           3|              1|\n",
      "|              Turkey|          14|              1|\n",
      "|      United Kingdom|           8|              1|\n",
      "|             Senegal|           1|              0|\n",
      "|           Sri Lanka|           1|              0|\n",
      "|            Paraguay|           3|              0|\n",
      "|              Malawi|           1|              0|\n",
      "|              Sweden|           1|              0|\n",
      "|         Philippines|          20|              0|\n",
      "|                Iraq|           1|              0|\n",
      "|             Germany|           7|              0|\n",
      "|         Afghanistan|           1|              0|\n",
      "+--------------------+------------+---------------+\n",
      "only showing top 20 rows\n",
      "\n"
     ]
    }
   ],
   "source": [
    "#Task 6\n",
    "# Как и в домашнем задании с SQL тут вывел не по городам, а странам для наглядности, потому что малое количество неактивных пользователей даже\n",
    "# в рамках страны\n",
    "cnt_cond = lambda cond: F.sum(F.when(cond, 1).otherwise(0))\n",
    "\n",
    "customer_df.join(address_df, customer_df.address_id == address_df.address_id)\\\n",
    "        .join(city_df, address_df.city_id == city_df.city_id)\\\n",
    "        .join(country_df, city_df.country_id == country_df.country_id)\\\n",
    "        .groupBy(F.col('country'))\\\n",
    "        .agg(cnt_cond(F.col('active') == 1).alias('total_active'),\n",
    "             cnt_cond(F.col('active') == 0).alias('total_nonactive'))\\\n",
    "        .orderBy(F.col('total_nonactive').desc())\\\n",
    "        .show()"
   ]
  },
  {
   "cell_type": "code",
   "execution_count": 11,
   "metadata": {},
   "outputs": [
    {
     "name": "stdout",
     "output_type": "stream",
     "text": [
      "+-------+------------------------+\n",
      "|   name|category_hours_of_rental|\n",
      "+-------+------------------------+\n",
      "| Sports|                 12363.0|\n",
      "|Foreign|                  6475.0|\n",
      "+-------+------------------------+\n",
      "\n"
     ]
    }
   ],
   "source": [
    "unionBase = rental_df.join(inventory_df, rental_df.inventory_id == inventory_df.inventory_id)\\\n",
    "                .join(film_df, inventory_df.film_id == film_df.film_id)\\\n",
    "                .join(film_category_df, film_df.film_id == film_category_df.film_id)\\\n",
    "                .join(category_df, film_category_df.category_id == category_df.category_id)\\\n",
    "                .join(customer_df, rental_df.customer_id == customer_df.customer_id)\\\n",
    "                .join(address_df, customer_df.address_id == address_df.address_id)\\\n",
    "                .join(city_df, address_df.city_id == city_df.city_id)\\\n",
    "                .withColumn('hours_of_rental',\n",
    "                            F.round((F.col('return_date').cast('long') - F.col('rental_date').cast('long'))/3600, 0))\n",
    "\n",
    "part_one = unionBase.filter(F.lower(F.substring(city_df.city, 1, 1)) == 'a')\\\n",
    "                    .groupBy(category_df.name)\\\n",
    "                    .agg(F.sum(F.col('hours_of_rental')).alias('category_hours_of_rental'))\\\n",
    "                    .orderBy(F.col('category_hours_of_rental').desc())\\\n",
    "                    .limit(1)\n",
    "\n",
    "part_two = unionBase.filter(city_df.city.like('%-%'))\\\n",
    "                    .groupBy(category_df.name)\\\n",
    "                    .agg(F.sum(F.col('hours_of_rental')).alias('category_hours_of_rental'))\\\n",
    "                    .orderBy(F.col('category_hours_of_rental').desc())\\\n",
    "                    .limit(1)\n",
    "\n",
    "part_one.union(part_two).show()"
   ]
  }
 ],
 "metadata": {
  "kernelspec": {
   "display_name": "Python 3",
   "language": "python",
   "name": "python3"
  },
  "language_info": {
   "codemirror_mode": {
    "name": "ipython",
    "version": 3
   },
   "file_extension": ".py",
   "mimetype": "text/x-python",
   "name": "python",
   "nbconvert_exporter": "python",
   "pygments_lexer": "ipython3",
   "version": "3.8.3"
  }
 },
 "nbformat": 4,
 "nbformat_minor": 5
}
